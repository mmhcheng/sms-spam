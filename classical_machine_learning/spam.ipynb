{
 "cells": [
  {
   "cell_type": "code",
   "execution_count": 1,
   "metadata": {},
   "outputs": [],
   "source": [
    "import matplotlib.pyplot as plt\n",
    "\n",
    "import numpy as np\n",
    "import pandas as pd\n",
    "\n",
    "from sklearn.feature_extraction.text import TfidfVectorizer\n",
    "from sklearn.metrics import confusion_matrix, classification_report, roc_auc_score, roc_curve, precision_recall_curve\n",
    "from sklearn.model_selection import train_test_split, cross_val_score, GridSearchCV\n",
    "from sklearn.linear_model import LogisticRegression\n",
    "from sklearn.ensemble import RandomForestClassifier\n",
    "from sklearn.externals import joblib\n",
    "\n",
    "from imblearn.over_sampling import SMOTE"
   ]
  },
  {
   "cell_type": "code",
   "execution_count": 2,
   "metadata": {},
   "outputs": [],
   "source": [
    "def preprocessing(df):\n",
    "    '''\n",
    "    Drop unnecessary columns.\n",
    "    Rename columns.\n",
    "    Convert target labels into numerical.\n",
    "    '''\n",
    "    df = df.drop(['Unnamed: 2', 'Unnamed: 3', 'Unnamed: 4'], axis=1)\n",
    "    df = df.rename(columns={'v1': 'label', 'v2': 'sms'})\n",
    "    # Convert label into numerical\n",
    "    df['label_numerical'] = df.label.map({'ham': 0, 'spam': 1})\n",
    "    return df"
   ]
  },
  {
   "cell_type": "code",
   "execution_count": 3,
   "metadata": {},
   "outputs": [],
   "source": [
    "def split_train_test(df):\n",
    "    '''\n",
    "    Split training and test.\n",
    "    '''\n",
    "    data = {}\n",
    "    data['X_train'], data['X_test'], data['y_train'], data['y_test'] = train_test_split(\n",
    "        df['sms'], df['label_numerical'], test_size=0.2, random_state=100)\n",
    "    return data"
   ]
  },
  {
   "cell_type": "code",
   "execution_count": 4,
   "metadata": {},
   "outputs": [],
   "source": [
    "def vectorization(data):\n",
    "    '''\n",
    "    TFIDF vectorizer.\n",
    "    '''\n",
    "    vectorizer = TfidfVectorizer()\n",
    "    ##### (Feature engineering) remove English stop words; include 1-grams and 2-grams\n",
    "    # vectorizer = TfidfVectorizer(analyzer='word', stop_words='english', ngram_range=(1, 2))\n",
    "    vectorizer.fit(data['X_train'])\n",
    "    data['X_train_vec'] = vectorizer.transform(data['X_train'])\n",
    "    data['X_test_vec'] = vectorizer.transform(data['X_test'])\n",
    "    print('\\nFirst few feature names:')\n",
    "    # Print first ten feature names\n",
    "    print(vectorizer.get_feature_names()[0:10])\n",
    "    print('\\nShape of sparse matrix: ', data['X_train_vec'].shape)\n",
    "    print('Amount of non-zero occurences: ', data['X_train_vec'].nnz)\n",
    "    print('Sparsity: %.2f%%' % (100.0 * data['X_train_vec'].nnz\n",
    "          / (data['X_train_vec'].shape[0] * data['X_train_vec'].shape[1])))\n",
    "    print('\\nTraining label count:')\n",
    "    print(np.unique(data['y_train'], return_counts=True))\n",
    "    return vectorizer, data"
   ]
  },
  {
   "cell_type": "code",
   "execution_count": 5,
   "metadata": {},
   "outputs": [],
   "source": [
    "def smote(data):\n",
    "    '''\n",
    "    (Modeling technique) SMOTE.\n",
    "    Balance training/test set samples.\n",
    "    '''\n",
    "    sm = SMOTE(random_state=100)\n",
    "    data['X_train_vec'], data['y_train'] = sm.fit_sample(data['X_train_vec'], data['y_train'])\n",
    "    print('\\nAfter SMOTE, training label count:')\n",
    "    print(np.unique(data['y_train'], return_counts=True))"
   ]
  },
  {
   "cell_type": "code",
   "execution_count": 6,
   "metadata": {},
   "outputs": [],
   "source": [
    "def fit_model(models, data):\n",
    "    '''\n",
    "    Fit machine learning models, given model parameters.\n",
    "    '''\n",
    "    result = {}\n",
    "    for name, model in models.items():\n",
    "        model.fit(data['X_train_vec'], data['y_train'])\n",
    "        result[name] = {}\n",
    "        # CV to check algorithm robustness\n",
    "        result[name]['auc_cv'] = cross_val_score(model, data['X_train_vec'], data['y_train'], cv=NUM_CV, scoring='roc_auc')\n",
    "        result[name]['predict_prob_train'] = pd.DataFrame(model.predict_proba(data['X_train_vec']))[1]\n",
    "        result[name]['predict_prob_test'] = pd.DataFrame(model.predict_proba(data['X_test_vec']))[1]\n",
    "        result[name]['auc_train'] = roc_auc_score(data['y_train'], result[name]['predict_prob_train'])\n",
    "        result[name]['auc_test'] = roc_auc_score(data['y_test'], result[name]['predict_prob_test'])\n",
    "        result[name]['fpr'], result[name]['tpr'], result[name]['roc_threshold'] = \\\n",
    "            roc_curve(data['y_test'], result[name]['predict_prob_test'])\n",
    "        result[name]['precision'], result[name]['recall'], result[name]['pr_threshold'] = \\\n",
    "            precision_recall_curve(data['y_test'], result[name]['predict_prob_test'])\n",
    "    return result"
   ]
  },
  {
   "cell_type": "code",
   "execution_count": 7,
   "metadata": {},
   "outputs": [],
   "source": [
    "def train_model(data):\n",
    "    '''\n",
    "    Train machine learning models.\n",
    "    '''\n",
    "    classifer_names = ['LogisticRegression', 'RandomForestClassifier']\n",
    "    models = {\n",
    "        'LogisticRegression': LogisticRegression(),\n",
    "        'RandomForestClassifier': RandomForestClassifier()\n",
    "        }\n",
    "    ##### (Modeling technique) CV parameter tuning\n",
    "    param_grid = {'C': [0.001, 0.01, 0.1, 1, 100]}\n",
    "    lr = GridSearchCV(LogisticRegression(), param_grid, scoring='roc_auc', cv=NUM_CV)\n",
    "    lr.fit(data['X_train_vec'], data['y_train'])\n",
    "    print('\\nBest parameter in Logistic Regression. C = %f' % (lr.best_params_['C']))\n",
    "    models['LogisticRegression'] = LogisticRegression(C=lr.best_params_['C'])  # Replace existing model\n",
    "    param_grid = {\n",
    "        'n_estimators': [20, 40, 60, 80, 100],\n",
    "        'max_depth': [5, 10, 15, 20]\n",
    "    }\n",
    "    rfc = GridSearchCV(RandomForestClassifier(), param_grid, scoring='roc_auc', cv=NUM_CV)\n",
    "    rfc.fit(data['X_train_vec'], data['y_train'])\n",
    "    print('\\nBest parameter in Random Forest. n_estimators = %d. max_depth = %d' %\n",
    "          (rfc.best_params_['n_estimators'], rfc.best_params_['max_depth']))\n",
    "    models['RandomForestClassifier'] = RandomForestClassifier(\n",
    "        n_estimators=rfc.best_params_['n_estimators'],\n",
    "        max_depth=rfc.best_params_['max_depth']  # Replace existing model\n",
    "    )\n",
    "    result = fit_model(models, data)\n",
    "    return models, result"
   ]
  },
  {
   "cell_type": "code",
   "execution_count": 8,
   "metadata": {},
   "outputs": [],
   "source": [
    "def print_ml_performance(models, result):\n",
    "    '''\n",
    "    Print model performance\n",
    "    '''\n",
    "    for name in models.keys():\n",
    "        print('\\nModel performance:')\n",
    "        print('%s, %s-fold Cross Validation - auc score mean: %.4f, std: %.4f' %\n",
    "              (name, NUM_CV, result[name]['auc_cv'].mean(), result[name]['auc_cv'].std()))\n",
    "        print('%s, Training set - auc score: %.4f' % (name, result[name]['auc_train']))\n",
    "        print('%s, Test set - auc score: %.4f' % (name, result[name]['auc_test']))"
   ]
  },
  {
   "cell_type": "code",
   "execution_count": 9,
   "metadata": {},
   "outputs": [],
   "source": [
    "def plot_roc(result):\n",
    "    plt.figure(0).clf()\n",
    "    for name in result.keys():\n",
    "        fpr = result[name]['fpr']\n",
    "        tpr = result[name]['tpr']\n",
    "        plt.plot(fpr, tpr, label=(name + ' auc=' + '%.2f' % (result[name]['auc_test'])))\n",
    "    plt.plot([0, 1], [0, 1], color='navy', lw=2, linestyle='--')\n",
    "    plt.xlim([0.0, 1.0])\n",
    "    plt.ylim([0.0, 1.0])\n",
    "    plt.xlabel('False Positive Rate')\n",
    "    plt.ylabel('True Positive Rate')\n",
    "    plt.title('Receiver Operating Characteristic (ROC)')\n",
    "    plt.legend(loc='lower right')\n",
    "    plt.show()"
   ]
  },
  {
   "cell_type": "code",
   "execution_count": 10,
   "metadata": {},
   "outputs": [],
   "source": [
    "def plot_pr(result):\n",
    "    plt.figure(1).clf()\n",
    "    for name in result.keys():\n",
    "        precision = result[name]['precision']\n",
    "        recall = result[name]['recall']\n",
    "        plt.plot(recall, precision, label=(name))\n",
    "    plt.xlim([0.0, 1.0])\n",
    "    plt.ylim([0.0, 1.0])\n",
    "    plt.xlabel('Recall')\n",
    "    plt.ylabel('Precision')\n",
    "    plt.title('Precision Recall Curve')\n",
    "    plt.legend(loc='lower right')\n",
    "    plt.show()"
   ]
  },
  {
   "cell_type": "code",
   "execution_count": 11,
   "metadata": {},
   "outputs": [],
   "source": [
    "def understand_misclassification(name, result, data, threshold):\n",
    "    '''\n",
    "    Understand misclassified sms text by the model.\n",
    "    '''\n",
    "    print('\\ne.g. for %s' % (name))\n",
    "    prediction = np.where(result[name]['predict_prob_test'] > threshold, 1, 0)\n",
    "    print('\\n Confusion Matrix:')\n",
    "    print(confusion_matrix(data['y_test'], prediction))  # Confusion matrix\n",
    "    print(classification_report(data['y_test'], prediction, digits=4))\n",
    "    # Understand mis-classifications\n",
    "    print('\\nFalse positives (ham incorrectly classified as spam):')\n",
    "    print(data['X_test'][prediction > data['y_test']])  # False positives\n",
    "    print('\\nFalse negatives (spam incorrectly classified as ham):')\n",
    "    print(data['X_test'][prediction < data['y_test']])  # False negatives"
   ]
  },
  {
   "cell_type": "code",
   "execution_count": 12,
   "metadata": {},
   "outputs": [],
   "source": [
    "def feature_importance(vectorizer, models):\n",
    "    '''\n",
    "    Print top few important features.\n",
    "    '''\n",
    "    feature_importance = pd.DataFrame({\n",
    "        'token': vectorizer.get_feature_names(),\n",
    "        'RandomForestClassifier': models['RandomForestClassifier'].feature_importances_,\n",
    "        'LogisticRegression': models['LogisticRegression'].coef_[0]\n",
    "    })\n",
    "    print('\\nTop influencing features sorted by feature importance score:')\n",
    "    for name, model in models.items():\n",
    "        print(feature_importance.sort_values(name, ascending=False)[[name, 'token']].head())"
   ]
  },
  {
   "cell_type": "code",
   "execution_count": 13,
   "metadata": {},
   "outputs": [],
   "source": [
    "def save_model(models):\n",
    "    '''\n",
    "    Save model to disk.\n",
    "    '''\n",
    "    print('\\nSave model to disk')\n",
    "    for name, model in models.items():\n",
    "        joblib_filename = name + '.pkl'\n",
    "        joblib.dump(model, joblib_filename)"
   ]
  },
  {
   "cell_type": "code",
   "execution_count": 14,
   "metadata": {},
   "outputs": [],
   "source": [
    "########## Run the code ##########\n",
    "NUM_CV = 5  # 5-fold cross validation"
   ]
  },
  {
   "cell_type": "code",
   "execution_count": 15,
   "metadata": {},
   "outputs": [
    {
     "name": "stdout",
     "output_type": "stream",
     "text": [
      "\n",
      "First few lines of data:\n",
      "     v1                                                 v2 Unnamed: 2  \\\n",
      "0   ham  Go until jurong point, crazy.. Available only ...        NaN   \n",
      "1   ham                      Ok lar... Joking wif u oni...        NaN   \n",
      "2  spam  Free entry in 2 a wkly comp to win FA Cup fina...        NaN   \n",
      "3   ham  U dun say so early hor... U c already then say...        NaN   \n",
      "4   ham  Nah I don't think he goes to usf, he lives aro...        NaN   \n",
      "\n",
      "  Unnamed: 3 Unnamed: 4  \n",
      "0        NaN        NaN  \n",
      "1        NaN        NaN  \n",
      "2        NaN        NaN  \n",
      "3        NaN        NaN  \n",
      "4        NaN        NaN  \n"
     ]
    }
   ],
   "source": [
    "# Import data\n",
    "# https://www.kaggle.com/uciml/sms-spam-collection-dataset\n",
    "df = pd.read_csv('spam.csv', encoding='latin-1')\n",
    "print('\\nFirst few lines of data:')\n",
    "print(df.head())  # print first few lines"
   ]
  },
  {
   "cell_type": "code",
   "execution_count": 16,
   "metadata": {},
   "outputs": [
    {
     "name": "stdout",
     "output_type": "stream",
     "text": [
      "\n",
      "First few lines of data after pre-processing:\n",
      "  label                                                sms  label_numerical\n",
      "0   ham  Go until jurong point, crazy.. Available only ...                0\n",
      "1   ham                      Ok lar... Joking wif u oni...                0\n",
      "2  spam  Free entry in 2 a wkly comp to win FA Cup fina...                1\n",
      "3   ham  U dun say so early hor... U c already then say...                0\n",
      "4   ham  Nah I don't think he goes to usf, he lives aro...                0\n"
     ]
    }
   ],
   "source": [
    "df = preprocessing(df)\n",
    "print('\\nFirst few lines of data after pre-processing:')\n",
    "print(df.head())  # Print first few lines\n",
    "# print(df.groupby('label').describe()) # Count observations"
   ]
  },
  {
   "cell_type": "code",
   "execution_count": 17,
   "metadata": {},
   "outputs": [],
   "source": [
    "# Training / Test split\n",
    "data = split_train_test(df)"
   ]
  },
  {
   "cell_type": "code",
   "execution_count": 18,
   "metadata": {},
   "outputs": [
    {
     "name": "stdout",
     "output_type": "stream",
     "text": [
      "\n",
      "First few feature names:\n",
      "['00', '000', '000pes', '008704050406', '0089', '0121', '01223585236', '01223585334', '0125698789', '02']\n",
      "\n",
      "Shape of sparse matrix:  (4457, 7793)\n",
      "Amount of non-zero occurences:  59469\n",
      "Sparsity: 0.17%\n",
      "\n",
      "Training label count:\n",
      "(array([0, 1]), array([3855,  602]))\n"
     ]
    }
   ],
   "source": [
    "# Tokenize input\n",
    "vectorizer, data = vectorization(data)"
   ]
  },
  {
   "cell_type": "code",
   "execution_count": 19,
   "metadata": {},
   "outputs": [
    {
     "name": "stdout",
     "output_type": "stream",
     "text": [
      "\n",
      "After SMOTE, training label count:\n",
      "(array([0, 1]), array([3855, 3855]))\n"
     ]
    }
   ],
   "source": [
    "# SMOTE\n",
    "smote(data)"
   ]
  },
  {
   "cell_type": "code",
   "execution_count": 20,
   "metadata": {},
   "outputs": [
    {
     "name": "stdout",
     "output_type": "stream",
     "text": [
      "\n",
      "Best parameter in Logistic Regression. C = 100.000000\n",
      "\n",
      "Best parameter in Random Forest. n_estimators = 80. max_depth = 20\n"
     ]
    }
   ],
   "source": [
    "# Train machine learning models\n",
    "models, result = train_model(data)"
   ]
  },
  {
   "cell_type": "code",
   "execution_count": 21,
   "metadata": {},
   "outputs": [
    {
     "name": "stdout",
     "output_type": "stream",
     "text": [
      "\n",
      "Model performance:\n",
      "LogisticRegression, 5-fold Cross Validation - auc score mean: 0.9998, std: 0.0002\n",
      "LogisticRegression, Training set - auc score: 1.0000\n",
      "LogisticRegression, Test set - auc score: 0.9923\n",
      "\n",
      "Model performance:\n",
      "RandomForestClassifier, 5-fold Cross Validation - auc score mean: 0.9989, std: 0.0019\n",
      "RandomForestClassifier, Training set - auc score: 0.9994\n",
      "RandomForestClassifier, Test set - auc score: 0.9926\n"
     ]
    }
   ],
   "source": [
    "# Print model performance\n",
    "print_ml_performance(models, result)"
   ]
  },
  {
   "cell_type": "code",
   "execution_count": 22,
   "metadata": {},
   "outputs": [
    {
     "data": {
      "image/png": "[encoded data removed]",
      "text/plain": [
       "<matplotlib.figure.Figure at 0x10b1f7ba8>"
      ]
     },
     "metadata": {},
     "output_type": "display_data"
    }
   ],
   "source": [
    "plot_roc(result)"
   ]
  },
  {
   "cell_type": "code",
   "execution_count": 23,
   "metadata": {},
   "outputs": [
    {
     "data": {
      "image/png": "[encoded data removed]",
      "text/plain": [
       "<matplotlib.figure.Figure at 0x10b1f7eb8>"
      ]
     },
     "metadata": {},
     "output_type": "display_data"
    }
   ],
   "source": [
    "plot_pr(result)"
   ]
  },
  {
   "cell_type": "code",
   "execution_count": 24,
   "metadata": {},
   "outputs": [
    {
     "name": "stdout",
     "output_type": "stream",
     "text": [
      "\n",
      "e.g. for LogisticRegression\n",
      "\n",
      " Confusion Matrix:\n",
      "[[965   5]\n",
      " [ 12 133]]\n",
      "             precision    recall  f1-score   support\n",
      "\n",
      "          0     0.9877    0.9948    0.9913       970\n",
      "          1     0.9638    0.9172    0.9399       145\n",
      "\n",
      "avg / total     0.9846    0.9848    0.9846      1115\n",
      "\n",
      "\n",
      "False positives (ham incorrectly classified as spam):\n",
      "4633          These won't do. Have to move on to morphine\n",
      "5157                              K k:) sms chat with me.\n",
      "2339    Cheers for the message Zogtorius. IåÕve been s...\n",
      "4727    I (Career Tel) have added u as a contact on IN...\n",
      "84                                         Yup next stop.\n",
      "Name: sms, dtype: object\n",
      "\n",
      "False negatives (spam incorrectly classified as ham):\n",
      "2429    Guess who am I?This is the first time I create...\n",
      "5540    ASKED 3MOBILE IF 0870 CHATLINES INCLU IN FREE ...\n",
      "4947    Hi this is Amy, we will be sending you a free ...\n",
      "671            SMS. ac sun0819 posts HELLO:\\You seem cool\n",
      "750     Do you realize that in about 40 years, we'll h...\n",
      "2773    How come it takes so little time for a child w...\n",
      "1673    Monthly password for wap. mobsi.com is 391784....\n",
      "4211    Missed call alert. These numbers called but le...\n",
      "1268    Can U get 2 phone NOW? I wanna chat 2 set up m...\n",
      "868     Hello. We need some posh birds and chaps to us...\n",
      "3748    Dear Voucher Holder 2 claim your 1st class air...\n",
      "2913    Sorry! U can not unsubscribe yet. THE MOB offe...\n",
      "Name: sms, dtype: object\n"
     ]
    }
   ],
   "source": [
    "# Understand misclassification\n",
    "# e.g. Logistic regression, and assume threshold\n",
    "name = 'LogisticRegression'\n",
    "threshold = 0.5\n",
    "understand_misclassification(name, result, data, threshold)"
   ]
  },
  {
   "cell_type": "code",
   "execution_count": 25,
   "metadata": {},
   "outputs": [
    {
     "name": "stdout",
     "output_type": "stream",
     "text": [
      "\n",
      "Top influencing features sorted by feature importance score:\n",
      "      LogisticRegression token\n",
      "7127           14.607385   txt\n",
      "7155           12.192008    uk\n",
      "6813           11.832069  text\n",
      "307            11.153599  150p\n",
      "6523           10.986825  stop\n",
      "      RandomForestClassifier token\n",
      "1630                0.045921  call\n",
      "6963                0.039931    to\n",
      "7127                0.030144   txt\n",
      "3017                0.026241  free\n",
      "5011                0.023966    or\n"
     ]
    }
   ],
   "source": [
    "# Feature importance\n",
    "feature_importance(vectorizer, models)"
   ]
  },
  {
   "cell_type": "code",
   "execution_count": 26,
   "metadata": {},
   "outputs": [],
   "source": [
    "# Save model to disk\n",
    "# save_model(models)"
   ]
  },
  {
   "cell_type": "code",
   "execution_count": null,
   "metadata": {},
   "outputs": [],
   "source": []
  }
 ],
 "metadata": {
  "kernelspec": {
   "display_name": "Python 3",
   "language": "python",
   "name": "python3"
  },
  "language_info": {
   "codemirror_mode": {
    "name": "ipython",
    "version": 3
   },
   "file_extension": ".py",
   "mimetype": "text/x-python",
   "name": "python",
   "nbconvert_exporter": "python",
   "pygments_lexer": "ipython3",
   "version": "3.6.4"
  }
 },
 "nbformat": 4,
 "nbformat_minor": 2
}
