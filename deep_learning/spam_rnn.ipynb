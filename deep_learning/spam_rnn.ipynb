{
 "cells": [
  {
   "cell_type": "code",
   "execution_count": 1,
   "metadata": {},
   "outputs": [
    {
     "name": "stderr",
     "output_type": "stream",
     "text": [
      "/anaconda3/lib/python3.6/site-packages/h5py/__init__.py:36: FutureWarning: Conversion of the second argument of issubdtype from `float` to `np.floating` is deprecated. In future, it will be treated as `np.float64 == np.dtype(float).type`.\n",
      "  from ._conv import register_converters as _register_converters\n",
      "Using TensorFlow backend.\n"
     ]
    }
   ],
   "source": [
    "import matplotlib.pyplot as plt\n",
    "\n",
    "import numpy as np\n",
    "import pandas as pd\n",
    "\n",
    "from sklearn.metrics import confusion_matrix, classification_report, roc_auc_score, roc_curve, precision_recall_curve\n",
    "from sklearn.model_selection import train_test_split\n",
    "\n",
    "from imblearn.over_sampling import SMOTE\n",
    "\n",
    "from keras.layers import Embedding, LSTM, Dense, Dropout, Activation\n",
    "from keras.models import Sequential\n",
    "from keras.preprocessing.text import Tokenizer\n",
    "from keras.preprocessing.sequence import pad_sequences"
   ]
  },
  {
   "cell_type": "code",
   "execution_count": 2,
   "metadata": {},
   "outputs": [],
   "source": [
    "def preprocessing(df):\n",
    "    '''\n",
    "    Drop unnecessary columns.\n",
    "    Rename columns.\n",
    "    Convert target labels into numerical.\n",
    "    '''\n",
    "    df = df.drop(['Unnamed: 2', 'Unnamed: 3', 'Unnamed: 4'], axis=1)\n",
    "    df = df.rename(columns={'v1': 'label', 'v2': 'sms'})\n",
    "    # Convert label into numerical\n",
    "    df['label_numerical'] = df.label.map({'ham': 0, 'spam': 1})\n",
    "    return df"
   ]
  },
  {
   "cell_type": "code",
   "execution_count": 3,
   "metadata": {},
   "outputs": [],
   "source": [
    "def split_train_test(df):\n",
    "    '''\n",
    "    Split training and test.\n",
    "    '''\n",
    "    data = {}\n",
    "    data['X_train'], data['X_test'], data['y_train'], data['y_test'] = train_test_split(\n",
    "        df['sms'], df['label_numerical'], test_size=0.2, random_state=100)\n",
    "    return data"
   ]
  },
  {
   "cell_type": "code",
   "execution_count": 4,
   "metadata": {},
   "outputs": [],
   "source": [
    "def tokenize(data, num_top_word, max_text_length):\n",
    "    '''\n",
    "    Tokenize input string of characters.\n",
    "    '''\n",
    "    tokenizer = Tokenizer(num_words=num_top_word)\n",
    "    tokenizer.fit_on_texts(data['X_train'])\n",
    "    train_sequences = tokenizer.texts_to_sequences(data['X_train'])\n",
    "    data['X_train_seq'] = pad_sequences(train_sequences,\n",
    "                                        maxlen=max_text_length,\n",
    "                                        padding='post',\n",
    "                                        truncating='post')\n",
    "    train_sequences = tokenizer.texts_to_sequences(data['X_test'])\n",
    "    data['X_test_seq'] = pad_sequences(train_sequences,\n",
    "                                       maxlen=max_text_length,\n",
    "                                       padding='post',\n",
    "                                       truncating='post')\n",
    "    print('\\nTraining label count:')\n",
    "    print(np.unique(data['y_train'], return_counts=True))"
   ]
  },
  {
   "cell_type": "code",
   "execution_count": 5,
   "metadata": {},
   "outputs": [],
   "source": [
    "def smote(data):\n",
    "    '''\n",
    "    (Modeling technique) SMOTE.\n",
    "    Balance training/test set samples.\n",
    "    '''\n",
    "    sm = SMOTE(random_state=100)\n",
    "    data['X_train_seq'], data['y_train'] = sm.fit_sample(data['X_train_seq'], data['y_train'])\n",
    "    print('\\nAfter SMOTE, training label count:')\n",
    "    print(np.unique(data['y_train'], return_counts=True))"
   ]
  },
  {
   "cell_type": "code",
   "execution_count": 6,
   "metadata": {},
   "outputs": [],
   "source": [
    "def train_rnn(data, num_top_word, embedding_vector_length, max_text_length):\n",
    "    '''\n",
    "    Train a RNN classification model.\n",
    "    '''\n",
    "    model = Sequential()\n",
    "    model.add(Embedding(input_dim=num_top_word,\n",
    "                        output_dim=embedding_vector_length,\n",
    "                        input_length=max_text_length))\n",
    "    model.add(LSTM(24))\n",
    "    # model.add(Dense(64, activation='relu', input_dim=embedding_vector_length))\n",
    "    # model.add(Dropout(0.2))\n",
    "    model.add(Dense(1, activation='sigmoid'))\n",
    "    model.compile(loss='binary_crossentropy', optimizer='adam', metrics=['accuracy'])\n",
    "    print(model.summary())\n",
    "    model.fit(x=data['X_train_seq'], y=data['y_train'], epochs=10, validation_split=0.2)\n",
    "    return model"
   ]
  },
  {
   "cell_type": "code",
   "execution_count": 7,
   "metadata": {},
   "outputs": [],
   "source": [
    "def compute_performance(models):\n",
    "    '''\n",
    "    Compute model performance.\n",
    "    '''\n",
    "    result = {}\n",
    "    for name, model in models.items():\n",
    "        result[name] = {}\n",
    "        result[name]['predict_prob_train'] = model.predict_proba(data['X_train_seq']).flatten()\n",
    "        result[name]['predict_prob_test'] = model.predict_proba(data['X_test_seq']).flatten()\n",
    "        result[name]['auc_train'] = roc_auc_score(data['y_train'], result[name]['predict_prob_train'])\n",
    "        result[name]['auc_test'] = roc_auc_score(data['y_test'], result[name]['predict_prob_test'])\n",
    "        result[name]['fpr'], result[name]['tpr'], result[name]['roc_threshold'] = \\\n",
    "            roc_curve(data['y_test'], result[name]['predict_prob_test'])\n",
    "        result[name]['precision'], result[name]['recall'], result[name]['pr_threshold'] = \\\n",
    "            precision_recall_curve(data['y_test'], result[name]['predict_prob_test'])\n",
    "    return result"
   ]
  },
  {
   "cell_type": "code",
   "execution_count": 8,
   "metadata": {},
   "outputs": [],
   "source": [
    "def print_ml_performance(models, result):\n",
    "    '''\n",
    "    Print model performance\n",
    "    '''\n",
    "    for name in models.keys():\n",
    "        print('\\nModel performance:')\n",
    "        print('%s, Training set - auc score: %.4f' % (name, result[name]['auc_train']))\n",
    "        print('%s, Test set - auc score: %.4f' % (name, result[name]['auc_test']))"
   ]
  },
  {
   "cell_type": "code",
   "execution_count": 9,
   "metadata": {},
   "outputs": [],
   "source": [
    "def plot_roc(result):\n",
    "    plt.figure(0).clf()\n",
    "    for name in result.keys():\n",
    "        fpr = result[name]['fpr']\n",
    "        tpr = result[name]['tpr']\n",
    "        plt.plot(fpr, tpr, label=(name + ' auc=' + '%.2f' % (result[name]['auc_test'])))\n",
    "    plt.plot([0, 1], [0, 1], color='navy', lw=2, linestyle='--')\n",
    "    plt.xlim([0.0, 1.0])\n",
    "    plt.ylim([0.0, 1.0])\n",
    "    plt.xlabel('False Positive Rate')\n",
    "    plt.ylabel('True Positive Rate')\n",
    "    plt.title('Receiver Operating Characteristic (ROC)')\n",
    "    plt.legend(loc='lower right')\n",
    "    plt.show()"
   ]
  },
  {
   "cell_type": "code",
   "execution_count": 10,
   "metadata": {},
   "outputs": [],
   "source": [
    "def plot_pr(result):\n",
    "    plt.figure(1).clf()\n",
    "    for name in result.keys():\n",
    "        precision = result[name]['precision']\n",
    "        recall = result[name]['recall']\n",
    "        plt.plot(recall, precision, label=(name))\n",
    "    plt.xlim([0.0, 1.0])\n",
    "    plt.ylim([0.0, 1.0])\n",
    "    plt.xlabel('Recall')\n",
    "    plt.ylabel('Precision')\n",
    "    plt.title('Precision Recall Curve')\n",
    "    plt.legend(loc='lower right')\n",
    "    plt.show()"
   ]
  },
  {
   "cell_type": "code",
   "execution_count": 11,
   "metadata": {},
   "outputs": [],
   "source": [
    "def understand_misclassification(name, result, data, threshold):\n",
    "    '''\n",
    "    Understand misclassified sms text by the model.\n",
    "    '''\n",
    "    print('\\ne.g. for %s' % (name))\n",
    "    prediction = np.where(result[name]['predict_prob_test'] > threshold, 1, 0)\n",
    "    print('\\n Confusion Matrix:')\n",
    "    print(confusion_matrix(data['y_test'], prediction))  # Confusion matrix\n",
    "    print(classification_report(data['y_test'], prediction, digits=4))\n",
    "    # Understand mis-classifications\n",
    "    print('\\nFalse positives (ham incorrectly classified as spam):')\n",
    "    print(data['X_test'][prediction > data['y_test']])  # False positives\n",
    "    print('\\nFalse negatives (spam incorrectly classified as ham):')\n",
    "    print(data['X_test'][prediction < data['y_test']])  # False negatives"
   ]
  },
  {
   "cell_type": "code",
   "execution_count": 12,
   "metadata": {},
   "outputs": [
    {
     "name": "stdout",
     "output_type": "stream",
     "text": [
      "\n",
      "First few lines of data:\n",
      "     v1                                                 v2 Unnamed: 2  \\\n",
      "0   ham  Go until jurong point, crazy.. Available only ...        NaN   \n",
      "1   ham                      Ok lar... Joking wif u oni...        NaN   \n",
      "2  spam  Free entry in 2 a wkly comp to win FA Cup fina...        NaN   \n",
      "3   ham  U dun say so early hor... U c already then say...        NaN   \n",
      "4   ham  Nah I don't think he goes to usf, he lives aro...        NaN   \n",
      "\n",
      "  Unnamed: 3 Unnamed: 4  \n",
      "0        NaN        NaN  \n",
      "1        NaN        NaN  \n",
      "2        NaN        NaN  \n",
      "3        NaN        NaN  \n",
      "4        NaN        NaN  \n"
     ]
    }
   ],
   "source": [
    "########## Run the code ##########\n",
    "# Import data\n",
    "# https://www.kaggle.com/uciml/sms-spam-collection-dataset\n",
    "df = pd.read_csv('spam.csv', encoding='latin-1')\n",
    "print('\\nFirst few lines of data:')\n",
    "print(df.head())  # print first few lines"
   ]
  },
  {
   "cell_type": "code",
   "execution_count": 13,
   "metadata": {},
   "outputs": [
    {
     "name": "stdout",
     "output_type": "stream",
     "text": [
      "\n",
      "First few lines of data after pre-processing:\n",
      "  label                                                sms  label_numerical\n",
      "0   ham  Go until jurong point, crazy.. Available only ...                0\n",
      "1   ham                      Ok lar... Joking wif u oni...                0\n",
      "2  spam  Free entry in 2 a wkly comp to win FA Cup fina...                1\n",
      "3   ham  U dun say so early hor... U c already then say...                0\n",
      "4   ham  Nah I don't think he goes to usf, he lives aro...                0\n"
     ]
    }
   ],
   "source": [
    "df = preprocessing(df)\n",
    "print('\\nFirst few lines of data after pre-processing:')\n",
    "print(df.head())  # Print first few lines\n",
    "# print(df.groupby('label').describe()) # Count observations"
   ]
  },
  {
   "cell_type": "code",
   "execution_count": 14,
   "metadata": {},
   "outputs": [],
   "source": [
    "# Training / Test split\n",
    "data = split_train_test(df)"
   ]
  },
  {
   "cell_type": "code",
   "execution_count": 15,
   "metadata": {},
   "outputs": [
    {
     "name": "stdout",
     "output_type": "stream",
     "text": [
      "\n",
      "Training label count:\n",
      "(array([0, 1]), array([3855,  602]))\n"
     ]
    }
   ],
   "source": [
    "# Tokenize input\n",
    "num_top_word = 1000\n",
    "max_text_length = 20\n",
    "tokenize(data, num_top_word, max_text_length)"
   ]
  },
  {
   "cell_type": "code",
   "execution_count": 16,
   "metadata": {},
   "outputs": [],
   "source": [
    "# SMOTE\n",
    "# smote(data)"
   ]
  },
  {
   "cell_type": "code",
   "execution_count": 24,
   "metadata": {},
   "outputs": [
    {
     "name": "stdout",
     "output_type": "stream",
     "text": [
      "_________________________________________________________________\n",
      "Layer (type)                 Output Shape              Param #   \n",
      "=================================================================\n",
      "embedding_2 (Embedding)      (None, 20, 32)            32000     \n",
      "_________________________________________________________________\n",
      "lstm_2 (LSTM)                (None, 24)                5472      \n",
      "_________________________________________________________________\n",
      "dense_2 (Dense)              (None, 1)                 25        \n",
      "=================================================================\n",
      "Total params: 37,497\n",
      "Trainable params: 37,497\n",
      "Non-trainable params: 0\n",
      "_________________________________________________________________\n",
      "None\n",
      "Train on 3565 samples, validate on 892 samples\n",
      "Epoch 1/10\n",
      "3565/3565 [==============================] - 5s 1ms/step - loss: 0.3037 - acc: 0.8996 - val_loss: 0.1192 - val_acc: 0.9742\n",
      "Epoch 2/10\n",
      "3565/3565 [==============================] - 3s 905us/step - loss: 0.0840 - acc: 0.9840 - val_loss: 0.0806 - val_acc: 0.9787\n",
      "Epoch 3/10\n",
      "3565/3565 [==============================] - 3s 908us/step - loss: 0.0506 - acc: 0.9910 - val_loss: 0.0583 - val_acc: 0.9854\n",
      "Epoch 4/10\n",
      "3565/3565 [==============================] - 3s 899us/step - loss: 0.0330 - acc: 0.9944 - val_loss: 0.0811 - val_acc: 0.9753\n",
      "Epoch 5/10\n",
      "3565/3565 [==============================] - 3s 900us/step - loss: 0.0281 - acc: 0.9944 - val_loss: 0.0715 - val_acc: 0.9821\n",
      "Epoch 6/10\n",
      "3565/3565 [==============================] - 3s 874us/step - loss: 0.0224 - acc: 0.9961 - val_loss: 0.0873 - val_acc: 0.9742\n",
      "Epoch 7/10\n",
      "3565/3565 [==============================] - 3s 875us/step - loss: 0.0160 - acc: 0.9972 - val_loss: 0.0544 - val_acc: 0.9877\n",
      "Epoch 8/10\n",
      "3565/3565 [==============================] - 3s 873us/step - loss: 0.0140 - acc: 0.9980 - val_loss: 0.0488 - val_acc: 0.9899\n",
      "Epoch 9/10\n",
      "3565/3565 [==============================] - 3s 905us/step - loss: 0.0118 - acc: 0.9983 - val_loss: 0.0712 - val_acc: 0.9832\n",
      "Epoch 10/10\n",
      "3565/3565 [==============================] - 3s 900us/step - loss: 0.0136 - acc: 0.9972 - val_loss: 0.0640 - val_acc: 0.9843\n"
     ]
    }
   ],
   "source": [
    "# Recursive Neural Network\n",
    "embedding_vector_length = 32\n",
    "models = {}\n",
    "models['RNN'] = train_rnn(data, num_top_word, embedding_vector_length, max_text_length)"
   ]
  },
  {
   "cell_type": "code",
   "execution_count": 25,
   "metadata": {},
   "outputs": [],
   "source": [
    "# Final evaluation of the model\n",
    "result = compute_performance(models)"
   ]
  },
  {
   "cell_type": "code",
   "execution_count": 26,
   "metadata": {},
   "outputs": [
    {
     "name": "stdout",
     "output_type": "stream",
     "text": [
      "\n",
      "Model performance:\n",
      "RNN, Training set - auc score: 0.9957\n",
      "RNN, Test set - auc score: 0.9943\n"
     ]
    }
   ],
   "source": [
    "print_ml_performance(models, result)"
   ]
  },
  {
   "cell_type": "code",
   "execution_count": 27,
   "metadata": {},
   "outputs": [
    {
     "data": {
      "image/png": "[encoded data removed]",
      "text/plain": [
       "<matplotlib.figure.Figure at 0x1a23058400>"
      ]
     },
     "metadata": {},
     "output_type": "display_data"
    }
   ],
   "source": [
    "plot_roc(result)"
   ]
  },
  {
   "cell_type": "code",
   "execution_count": 28,
   "metadata": {},
   "outputs": [
    {
     "data": {
      "image/png": "[encoded data removed]",
      "text/plain": [
       "<matplotlib.figure.Figure at 0x1a230584e0>"
      ]
     },
     "metadata": {},
     "output_type": "display_data"
    }
   ],
   "source": [
    "plot_pr(result)"
   ]
  },
  {
   "cell_type": "code",
   "execution_count": 29,
   "metadata": {},
   "outputs": [
    {
     "name": "stdout",
     "output_type": "stream",
     "text": [
      "\n",
      "e.g. for RNN\n",
      "\n",
      " Confusion Matrix:\n",
      "[[961   9]\n",
      " [  9 136]]\n",
      "             precision    recall  f1-score   support\n",
      "\n",
      "          0     0.9907    0.9907    0.9907       970\n",
      "          1     0.9379    0.9379    0.9379       145\n",
      "\n",
      "avg / total     0.9839    0.9839    0.9839      1115\n",
      "\n",
      "\n",
      "False positives (ham incorrectly classified as spam):\n",
      "5142    Now that you have started dont stop. Just pray...\n",
      "2339    Cheers for the message Zogtorius. IåÕve been s...\n",
      "4727    I (Career Tel) have added u as a contact on IN...\n",
      "1219    True. It is passable. And if you get a high sc...\n",
      "1383    Please reserve ticket on saturday eve from che...\n",
      "1937    The fact that you're cleaning shows you know w...\n",
      "1289    Hey...Great deal...Farm tour 9am to 5pm $95/pa...\n",
      "2092    Oh, my love, it's soooo good to hear from you....\n",
      "3105    I had been hoping i would not have to send you...\n",
      "Name: sms, dtype: object\n",
      "\n",
      "False negatives (spam incorrectly classified as ham):\n",
      "2429    Guess who am I?This is the first time I create...\n",
      "5540    ASKED 3MOBILE IF 0870 CHATLINES INCLU IN FREE ...\n",
      "4947    Hi this is Amy, we will be sending you a free ...\n",
      "671            SMS. ac sun0819 posts HELLO:\\You seem cool\n",
      "610     22 days to kick off! For Euro2004 U will be ke...\n",
      "750     Do you realize that in about 40 years, we'll h...\n",
      "2773    How come it takes so little time for a child w...\n",
      "4211    Missed call alert. These numbers called but le...\n",
      "868     Hello. We need some posh birds and chaps to us...\n",
      "Name: sms, dtype: object\n"
     ]
    }
   ],
   "source": [
    "# Understand misclassification\n",
    "name = 'RNN'\n",
    "threshold = 0.5\n",
    "understand_misclassification(name, result, data, threshold)"
   ]
  },
  {
   "cell_type": "code",
   "execution_count": 30,
   "metadata": {},
   "outputs": [],
   "source": [
    "# Save model\n",
    "# models['RNN'].save('rnn.h5')"
   ]
  },
  {
   "cell_type": "code",
   "execution_count": null,
   "metadata": {},
   "outputs": [],
   "source": []
  }
 ],
 "metadata": {
  "kernelspec": {
   "display_name": "Python 3",
   "language": "python",
   "name": "python3"
  },
  "language_info": {
   "codemirror_mode": {
    "name": "ipython",
    "version": 3
   },
   "file_extension": ".py",
   "mimetype": "text/x-python",
   "name": "python",
   "nbconvert_exporter": "python",
   "pygments_lexer": "ipython3",
   "version": "3.6.4"
  }
 },
 "nbformat": 4,
 "nbformat_minor": 2
}
